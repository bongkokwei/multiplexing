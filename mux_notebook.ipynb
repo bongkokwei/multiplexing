{
 "cells": [
  {
   "cell_type": "markdown",
   "metadata": {},
   "source": [
    "# Multiplexing notebook"
   ]
  },
  {
   "cell_type": "code",
   "execution_count": 1,
   "metadata": {},
   "outputs": [],
   "source": [
    "import numpy as np\n",
    "import matplotlib.pyplot as plt\n",
    "from ipywidgets import (\n",
    "    interact,\n",
    "    FloatSlider,\n",
    "    IntSlider,\n",
    "    VBox,\n",
    "    Layout,\n",
    "    Label,\n",
    "    HBox,\n",
    ")\n",
    "from IPython.display import display\n",
    "from smux import spatial_multiplexing\n",
    "\n",
    "# Define the dictionary\n",
    "smux_dict = {\n",
    "    \"num_sources\": 100,  #  number of sources\n",
    "    \"eta_idler\": 1.0,  #  efficiency of the idler\n",
    "    \"eta_signal\": 1.0,  # efficiency of the signal\n",
    "    \"squeezing_param\": 0.8,  #  squeezing parameter\n",
    "    \"eta_delay\": 0.8,  # efficiency of the delay\n",
    "    \"eta_switch\": 0.8,  #  efficiency of the switch\n",
    "    \"eta_splitter\": 0.8,  # efficiency of the splitter\n",
    "}"
   ]
  },
  {
   "cell_type": "markdown",
   "metadata": {},
   "source": [
    "## Function that updates plot when parameters change"
   ]
  },
  {
   "cell_type": "code",
   "execution_count": 2,
   "metadata": {},
   "outputs": [],
   "source": [
    "def update_plot(\n",
    "    num_sources,\n",
    "    eta_idler,\n",
    "    eta_signal,\n",
    "    squeezing_param,\n",
    "    eta_delay,\n",
    "    eta_switch,\n",
    "    eta_splitter,\n",
    "):\n",
    "    # Update smux_dict with the new values from sliders\n",
    "    smux_dict.update(\n",
    "        {\n",
    "            \"num_sources\": num_sources,\n",
    "            \"eta_idler\": eta_idler,\n",
    "            \"eta_signal\": eta_signal,\n",
    "            \"squeezing_param\": squeezing_param,\n",
    "            \"eta_delay\": eta_delay,\n",
    "            \"eta_switch\": eta_switch,\n",
    "            \"eta_splitter\": eta_splitter,\n",
    "        }\n",
    "    )\n",
    "    smux = spatial_multiplexing(smux_dict)\n",
    "\n",
    "    # First plot\n",
    "    fig, ax = plt.subplots(figsize=(12, 8))\n",
    "    ax.plot(smux.num_mode_array, smux.calculate_single_photon_prob_array())\n",
    "    ax.set_ylabel(\"M-photon probability\")\n",
    "    ax.set_xlabel(\"Number of modes\")\n",
    "    ax.set_title(f\"M-Photon time multiplexed source\")\n",
    "    ax.grid(True)\n",
    "    plt.show()"
   ]
  },
  {
   "cell_type": "markdown",
   "metadata": {},
   "source": [
    "## Define sliders"
   ]
  },
  {
   "cell_type": "code",
   "execution_count": 3,
   "metadata": {},
   "outputs": [],
   "source": [
    "# Create sliders for each parameter with adjusted length\n",
    "slider_layout = Layout(width=\"700px\")  # Adjust the width here\n",
    "\n",
    "sliders = {\n",
    "    \"num_sources\": IntSlider(\n",
    "        value=smux_dict[\"num_sources\"],\n",
    "        min=1,\n",
    "        max=200,\n",
    "        step=1,\n",
    "        description=\"Num Sources\",\n",
    "        layout=slider_layout,\n",
    "    ),\n",
    "    \"eta_idler\": FloatSlider(\n",
    "        value=smux_dict[\"eta_idler\"],\n",
    "        min=0.0,\n",
    "        max=1.0,\n",
    "        step=0.01,\n",
    "        description=\"eta Idler\",\n",
    "        layout=slider_layout,\n",
    "    ),\n",
    "    \"eta_signal\": FloatSlider(\n",
    "        value=smux_dict[\"eta_signal\"],\n",
    "        min=0.0,\n",
    "        max=1.0,\n",
    "        step=0.01,\n",
    "        description=\"eta Signal\",\n",
    "        layout=slider_layout,\n",
    "    ),\n",
    "    \"squeezing_param\": FloatSlider(\n",
    "        value=smux_dict[\"squeezing_param\"],\n",
    "        min=0.0,\n",
    "        max=1.0,\n",
    "        step=0.01,\n",
    "        description=\"Squeezing Param\",\n",
    "        layout=slider_layout,\n",
    "    ),\n",
    "    \"eta_delay\": FloatSlider(\n",
    "        value=smux_dict[\"eta_delay\"],\n",
    "        min=0.0,\n",
    "        max=1.0,\n",
    "        step=0.01,\n",
    "        description=\"eta Delay\",\n",
    "        layout=slider_layout,\n",
    "    ),\n",
    "    \"eta_switch\": FloatSlider(\n",
    "        value=smux_dict[\"eta_switch\"],\n",
    "        min=0.0,\n",
    "        max=1.0,\n",
    "        step=0.01,\n",
    "        description=\"eta Switch\",\n",
    "        layout=slider_layout,\n",
    "    ),\n",
    "    \"eta_splitter\": FloatSlider(\n",
    "        value=smux_dict[\"eta_splitter\"],\n",
    "        min=0.0,\n",
    "        max=1.0,\n",
    "        step=0.01,\n",
    "        description=\"eta splitter\",\n",
    "        layout=slider_layout,\n",
    "    ),\n",
    "}\n",
    "\n",
    "labels = {\n",
    "    \"num_sources\": Label(\"Num Sources\"),\n",
    "    \"eta_idler\": Label(r\"$\\eta_{idler}$\"),\n",
    "    \"eta_signal\": Label(r\"$\\eta_{signal}$\"),\n",
    "    \"squeezing_param\": Label(\"Squeezing Param\"),\n",
    "    \"eta_delay\": Label(r\"$\\eta_{delay}$\"),\n",
    "    \"eta_switch\": Label(r\"$\\eta_{switch}$\"),\n",
    "    \"eta_splitter\": Label(r\"$\\eta_{splitter}$\"),\n",
    "}\n",
    "\n",
    "slider_boxes = [HBox([labels[param], sliders[param]]) for param in smux_dict]"
   ]
  },
  {
   "cell_type": "markdown",
   "metadata": {},
   "source": [
    "## Dynamic multiplexing plot"
   ]
  },
  {
   "cell_type": "code",
   "execution_count": 4,
   "metadata": {},
   "outputs": [
    {
     "data": {
      "application/vnd.jupyter.widget-view+json": {
       "model_id": "d0869f6f71724241b7ee6550261ef99e",
       "version_major": 2,
       "version_minor": 0
      },
      "text/plain": [
       "interactive(children=(IntSlider(value=100, description='Num Sources', layout=Layout(width='700px'), max=200, m…"
      ]
     },
     "metadata": {},
     "output_type": "display_data"
    },
    {
     "data": {
      "text/plain": [
       "<function __main__.update_plot(num_sources, eta_idler, eta_signal, squeezing_param, eta_delay, eta_switch, eta_splitter)>"
      ]
     },
     "execution_count": 4,
     "metadata": {},
     "output_type": "execute_result"
    }
   ],
   "source": [
    "# Use the interact function to dynamically update the plots\n",
    "interact(\n",
    "    update_plot,\n",
    "    num_sources=sliders[\"num_sources\"],\n",
    "    eta_idler=sliders[\"eta_idler\"],\n",
    "    eta_signal=sliders[\"eta_signal\"],\n",
    "    squeezing_param=sliders[\"squeezing_param\"],\n",
    "    eta_delay=sliders[\"eta_delay\"],\n",
    "    eta_switch=sliders[\"eta_switch\"],\n",
    "    eta_splitter=sliders[\"eta_splitter\"],\n",
    ")\n",
    "\n",
    "# Display the sliders\n",
    "# display(VBox(display(VBox(slider_boxes))))"
   ]
  }
 ],
 "metadata": {
  "kernelspec": {
   "display_name": "Python 3 (ipykernel)",
   "language": "python",
   "name": "python3"
  },
  "language_info": {
   "codemirror_mode": {
    "name": "ipython",
    "version": 3
   },
   "file_extension": ".py",
   "mimetype": "text/x-python",
   "name": "python",
   "nbconvert_exporter": "python",
   "pygments_lexer": "ipython3",
   "version": "3.10.5"
  }
 },
 "nbformat": 4,
 "nbformat_minor": 2
}
